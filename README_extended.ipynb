{
 "cells": [
  {
   "cell_type": "markdown",
   "id": "3700ac37",
   "metadata": {},
   "source": [
    "# K-means Algorithm \n",
    "\n",
    "The goal of the algorithm in to partition the input data into $k$-cluster, $k \\in \\mathbb{N}$. The function `create_synthetic_data()` may be used to create synthetic data. The data are $n$-dimensional vectors that will be belong to one of the $k$ groups, which will grouped by similarity, mathematically speaking. To achieve this goal we define the data vectors $x_i \\in \\mathbb{R}^n$ with $i = \\{1, 2, ..., N\\}$ and the representative vectors, or centroids, that are $z_j \\in \\mathbb{R}^n$ with $j = \\{1, 2, ..., k\\}$. We then define the set $c$ that maps the vector $x_i$ to the cluster $j$. For example, with $5$ vectors and $3$ clusters we could have $c = \\{3, 2, 2, 2, 1\\}$, meaning the first vector belong to the third cluster and so on. We then define the cost   \n",
    "$$J_{\\text{cost}} = \\frac{1}{N} \\sum_i \\|x_i - z_{c_i}\\|^2 = \\frac{1}{N} \\sum_i \\|x_i - z_j\\|^2$$\n",
    "and the K-Means Algorithm performs the optimization task:\n",
    "$$\\min_{c_i , z_j} \\frac{1}{N} \\sum_i \\|x_i - z_{c_i}\\|^2 $$\n",
    "and finally this is done in code iteratively.\n",
    "\n",
    "The main idea of the algorithm is initialize random $z_j$'s and then repeat until convergence the following two steps:\n",
    "1. Assign the vector $x_i$ to the closest of the representatives $z_j$.\n",
    "2. Calculate new representatives $z_j$'s as the mean of the vectors $\\{x_i | c_i = j\\}$.\n"
   ]
  },
  {
   "cell_type": "markdown",
   "metadata": {},
   "source": []
  }
 ],
 "metadata": {
  "kernelspec": {
   "display_name": "Python 3 (ipykernel)",
   "language": "python",
   "name": "python3"
  },
  "language_info": {
   "codemirror_mode": {
    "name": "ipython",
    "version": 3
   },
   "file_extension": ".py",
   "mimetype": "text/x-python",
   "name": "python",
   "nbconvert_exporter": "python",
   "pygments_lexer": "ipython3",
   "version": "3.8.10"
  }
 },
 "nbformat": 4,
 "nbformat_minor": 5
}
