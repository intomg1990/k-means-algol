{
 "cells": [
  {
   "cell_type": "markdown",
   "id": "3700ac37",
   "metadata": {},
   "source": [
    "# K-means Algorithm \n",
    "\n",
    "The goal of the algorithm in to partition the input data into $k$-cluster, $k \\in \\mathbb{N}$. The function `create_synthetic_data()` may be used to create synthetic data. The data are $n$-dimensional vectors that will be belong to one of the $k$ groups, which will grouped by similarity, mathematically speaking. To achieve this goal we define the data vectors $x_i \\in \\mathbb{R}^n$ with $i = \\{1, 2, ..., N\\}$ and the representative vectors, or centroids, that are $z_j \\in \\mathbb{R}^n$ with $j = \\{1, 2, ..., k\\}$. "
   ]
  }
 ],
 "metadata": {
  "kernelspec": {
   "display_name": "Python 3 (ipykernel)",
   "language": "python",
   "name": "python3"
  },
  "language_info": {
   "codemirror_mode": {
    "name": "ipython",
    "version": 3
   },
   "file_extension": ".py",
   "mimetype": "text/x-python",
   "name": "python",
   "nbconvert_exporter": "python",
   "pygments_lexer": "ipython3",
   "version": "3.8.10"
  }
 },
 "nbformat": 4,
 "nbformat_minor": 5
}
